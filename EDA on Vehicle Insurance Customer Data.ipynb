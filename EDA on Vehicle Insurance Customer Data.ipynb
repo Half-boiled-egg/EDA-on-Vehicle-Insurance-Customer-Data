{
 "cells": [
  {
   "cell_type": "markdown",
   "id": "06c2ab84",
   "metadata": {},
   "source": [
    "### Importing datasets and Add the column names to both datasets"
   ]
  },
  {
   "cell_type": "code",
   "execution_count": 2,
   "id": "fe98d17c",
   "metadata": {},
   "outputs": [],
   "source": [
    "import pandas as pd \n",
    "\n",
    "customer_details=pd.read_csv('customer_details.csv')"
   ]
  },
  {
   "cell_type": "code",
   "execution_count": 3,
   "id": "c5ab7bcd",
   "metadata": {},
   "outputs": [],
   "source": [
    "customer_policy_details=pd.read_csv('customer_policy_details.csv')"
   ]
  },
  {
   "cell_type": "code",
   "execution_count": 4,
   "id": "1dd7cff3",
   "metadata": {},
   "outputs": [],
   "source": [
    "customer_details.columns=['customer_id','Gender','age','driving licence present','region code','previously insured','vehicle age','vehicle damage']"
   ]
  },
  {
   "cell_type": "code",
   "execution_count": 5,
   "id": "2f6e3a8e",
   "metadata": {},
   "outputs": [],
   "source": [
    "customer_policy_details.columns=['customer_id','annual premium (in Rs)','sales channel code','vintage','response']"
   ]
  },
  {
   "cell_type": "markdown",
   "id": "3f64832f",
   "metadata": {},
   "source": [
    "### Checking and Cleaning Data Quality:"
   ]
  },
  {
   "cell_type": "markdown",
   "id": "5055edef",
   "metadata": {},
   "source": [
    "##### Generate a summary of count of all the null values column wise"
   ]
  },
  {
   "cell_type": "code",
   "execution_count": 6,
   "id": "f6d31c1d",
   "metadata": {},
   "outputs": [],
   "source": [
    "customer_details_null_values=customer_details.isnull()"
   ]
  },
  {
   "cell_type": "code",
   "execution_count": 7,
   "id": "7c281f5b",
   "metadata": {},
   "outputs": [],
   "source": [
    "customer_details_null_values_summary=customer_details_null_values.sum()"
   ]
  },
  {
   "cell_type": "code",
   "execution_count": 8,
   "id": "ac3d1b39",
   "metadata": {},
   "outputs": [
    {
     "data": {
      "text/plain": [
       "customer_id                386\n",
       "Gender                     368\n",
       "age                        368\n",
       "driving licence present    393\n",
       "region code                392\n",
       "previously insured         381\n",
       "vehicle age                381\n",
       "vehicle damage             407\n",
       "dtype: int64"
      ]
     },
     "execution_count": 8,
     "metadata": {},
     "output_type": "execute_result"
    }
   ],
   "source": [
    "customer_details_null_values_summary"
   ]
  },
  {
   "cell_type": "code",
   "execution_count": 9,
   "id": "a269cbda",
   "metadata": {},
   "outputs": [],
   "source": [
    "customer_policy_details_null_values=customer_policy_details.isnull()"
   ]
  },
  {
   "cell_type": "code",
   "execution_count": 10,
   "id": "1aae4a07",
   "metadata": {},
   "outputs": [],
   "source": [
    "customer_policy_details_null_values_summary=customer_policy_details_null_values.sum()"
   ]
  },
  {
   "cell_type": "code",
   "execution_count": 11,
   "id": "6cafbc54",
   "metadata": {
    "scrolled": true
   },
   "outputs": [
    {
     "data": {
      "text/plain": [
       "customer_id               387\n",
       "annual premium (in Rs)    346\n",
       "sales channel code        400\n",
       "vintage                   388\n",
       "response                  361\n",
       "dtype: int64"
      ]
     },
     "execution_count": 11,
     "metadata": {},
     "output_type": "execute_result"
    }
   ],
   "source": [
    "customer_policy_details_null_values_summary"
   ]
  },
  {
   "cell_type": "markdown",
   "id": "25426aa3",
   "metadata": {},
   "source": [
    "##### Drop Null values for customer_id"
   ]
  },
  {
   "cell_type": "code",
   "execution_count": 12,
   "id": "f9c386a6",
   "metadata": {},
   "outputs": [
    {
     "data": {
      "text/html": [
       "<div>\n",
       "<style scoped>\n",
       "    .dataframe tbody tr th:only-of-type {\n",
       "        vertical-align: middle;\n",
       "    }\n",
       "\n",
       "    .dataframe tbody tr th {\n",
       "        vertical-align: top;\n",
       "    }\n",
       "\n",
       "    .dataframe thead th {\n",
       "        text-align: right;\n",
       "    }\n",
       "</style>\n",
       "<table border=\"1\" class=\"dataframe\">\n",
       "  <thead>\n",
       "    <tr style=\"text-align: right;\">\n",
       "      <th></th>\n",
       "      <th>customer_id</th>\n",
       "      <th>Gender</th>\n",
       "      <th>age</th>\n",
       "      <th>driving licence present</th>\n",
       "      <th>region code</th>\n",
       "      <th>previously insured</th>\n",
       "      <th>vehicle age</th>\n",
       "      <th>vehicle damage</th>\n",
       "    </tr>\n",
       "  </thead>\n",
       "  <tbody>\n",
       "    <tr>\n",
       "      <th>0</th>\n",
       "      <td>1.0</td>\n",
       "      <td>Male</td>\n",
       "      <td>44.0</td>\n",
       "      <td>1.0</td>\n",
       "      <td>28.0</td>\n",
       "      <td>0.0</td>\n",
       "      <td>&gt; 2 Years</td>\n",
       "      <td>Yes</td>\n",
       "    </tr>\n",
       "    <tr>\n",
       "      <th>1</th>\n",
       "      <td>2.0</td>\n",
       "      <td>Male</td>\n",
       "      <td>76.0</td>\n",
       "      <td>1.0</td>\n",
       "      <td>3.0</td>\n",
       "      <td>0.0</td>\n",
       "      <td>1-2 Year</td>\n",
       "      <td>No</td>\n",
       "    </tr>\n",
       "    <tr>\n",
       "      <th>2</th>\n",
       "      <td>3.0</td>\n",
       "      <td>Male</td>\n",
       "      <td>47.0</td>\n",
       "      <td>1.0</td>\n",
       "      <td>28.0</td>\n",
       "      <td>0.0</td>\n",
       "      <td>&gt; 2 Years</td>\n",
       "      <td>Yes</td>\n",
       "    </tr>\n",
       "    <tr>\n",
       "      <th>3</th>\n",
       "      <td>4.0</td>\n",
       "      <td>Male</td>\n",
       "      <td>21.0</td>\n",
       "      <td>1.0</td>\n",
       "      <td>11.0</td>\n",
       "      <td>1.0</td>\n",
       "      <td>&lt; 1 Year</td>\n",
       "      <td>No</td>\n",
       "    </tr>\n",
       "    <tr>\n",
       "      <th>4</th>\n",
       "      <td>5.0</td>\n",
       "      <td>Female</td>\n",
       "      <td>29.0</td>\n",
       "      <td>1.0</td>\n",
       "      <td>41.0</td>\n",
       "      <td>1.0</td>\n",
       "      <td>&lt; 1 Year</td>\n",
       "      <td>No</td>\n",
       "    </tr>\n",
       "    <tr>\n",
       "      <th>...</th>\n",
       "      <td>...</td>\n",
       "      <td>...</td>\n",
       "      <td>...</td>\n",
       "      <td>...</td>\n",
       "      <td>...</td>\n",
       "      <td>...</td>\n",
       "      <td>...</td>\n",
       "      <td>...</td>\n",
       "    </tr>\n",
       "    <tr>\n",
       "      <th>381104</th>\n",
       "      <td>381105.0</td>\n",
       "      <td>Male</td>\n",
       "      <td>74.0</td>\n",
       "      <td>1.0</td>\n",
       "      <td>26.0</td>\n",
       "      <td>1.0</td>\n",
       "      <td>1-2 Year</td>\n",
       "      <td>No</td>\n",
       "    </tr>\n",
       "    <tr>\n",
       "      <th>381105</th>\n",
       "      <td>381106.0</td>\n",
       "      <td>Male</td>\n",
       "      <td>30.0</td>\n",
       "      <td>1.0</td>\n",
       "      <td>37.0</td>\n",
       "      <td>1.0</td>\n",
       "      <td>&lt; 1 Year</td>\n",
       "      <td>No</td>\n",
       "    </tr>\n",
       "    <tr>\n",
       "      <th>381106</th>\n",
       "      <td>381107.0</td>\n",
       "      <td>Male</td>\n",
       "      <td>21.0</td>\n",
       "      <td>1.0</td>\n",
       "      <td>30.0</td>\n",
       "      <td>1.0</td>\n",
       "      <td>&lt; 1 Year</td>\n",
       "      <td>No</td>\n",
       "    </tr>\n",
       "    <tr>\n",
       "      <th>381107</th>\n",
       "      <td>381108.0</td>\n",
       "      <td>Female</td>\n",
       "      <td>68.0</td>\n",
       "      <td>1.0</td>\n",
       "      <td>14.0</td>\n",
       "      <td>0.0</td>\n",
       "      <td>&gt; 2 Years</td>\n",
       "      <td>Yes</td>\n",
       "    </tr>\n",
       "    <tr>\n",
       "      <th>381108</th>\n",
       "      <td>381109.0</td>\n",
       "      <td>Male</td>\n",
       "      <td>46.0</td>\n",
       "      <td>1.0</td>\n",
       "      <td>29.0</td>\n",
       "      <td>0.0</td>\n",
       "      <td>1-2 Year</td>\n",
       "      <td>No</td>\n",
       "    </tr>\n",
       "  </tbody>\n",
       "</table>\n",
       "<p>380723 rows × 8 columns</p>\n",
       "</div>"
      ],
      "text/plain": [
       "        customer_id  Gender   age  driving licence present  region code  \\\n",
       "0               1.0    Male  44.0                      1.0         28.0   \n",
       "1               2.0    Male  76.0                      1.0          3.0   \n",
       "2               3.0    Male  47.0                      1.0         28.0   \n",
       "3               4.0    Male  21.0                      1.0         11.0   \n",
       "4               5.0  Female  29.0                      1.0         41.0   \n",
       "...             ...     ...   ...                      ...          ...   \n",
       "381104     381105.0    Male  74.0                      1.0         26.0   \n",
       "381105     381106.0    Male  30.0                      1.0         37.0   \n",
       "381106     381107.0    Male  21.0                      1.0         30.0   \n",
       "381107     381108.0  Female  68.0                      1.0         14.0   \n",
       "381108     381109.0    Male  46.0                      1.0         29.0   \n",
       "\n",
       "        previously insured vehicle age vehicle damage  \n",
       "0                      0.0   > 2 Years            Yes  \n",
       "1                      0.0    1-2 Year             No  \n",
       "2                      0.0   > 2 Years            Yes  \n",
       "3                      1.0    < 1 Year             No  \n",
       "4                      1.0    < 1 Year             No  \n",
       "...                    ...         ...            ...  \n",
       "381104                 1.0    1-2 Year             No  \n",
       "381105                 1.0    < 1 Year             No  \n",
       "381106                 1.0    < 1 Year             No  \n",
       "381107                 0.0   > 2 Years            Yes  \n",
       "381108                 0.0    1-2 Year             No  \n",
       "\n",
       "[380723 rows x 8 columns]"
      ]
     },
     "execution_count": 12,
     "metadata": {},
     "output_type": "execute_result"
    }
   ],
   "source": [
    "customer_details.dropna(subset='customer_id',axis=0,inplace=True)\n",
    "customer_details"
   ]
  },
  {
   "cell_type": "code",
   "execution_count": 13,
   "id": "e1252ea8",
   "metadata": {},
   "outputs": [
    {
     "data": {
      "text/html": [
       "<div>\n",
       "<style scoped>\n",
       "    .dataframe tbody tr th:only-of-type {\n",
       "        vertical-align: middle;\n",
       "    }\n",
       "\n",
       "    .dataframe tbody tr th {\n",
       "        vertical-align: top;\n",
       "    }\n",
       "\n",
       "    .dataframe thead th {\n",
       "        text-align: right;\n",
       "    }\n",
       "</style>\n",
       "<table border=\"1\" class=\"dataframe\">\n",
       "  <thead>\n",
       "    <tr style=\"text-align: right;\">\n",
       "      <th></th>\n",
       "      <th>customer_id</th>\n",
       "      <th>annual premium (in Rs)</th>\n",
       "      <th>sales channel code</th>\n",
       "      <th>vintage</th>\n",
       "      <th>response</th>\n",
       "    </tr>\n",
       "  </thead>\n",
       "  <tbody>\n",
       "    <tr>\n",
       "      <th>0</th>\n",
       "      <td>1.0</td>\n",
       "      <td>40454.0</td>\n",
       "      <td>26.0</td>\n",
       "      <td>217.0</td>\n",
       "      <td>1.0</td>\n",
       "    </tr>\n",
       "    <tr>\n",
       "      <th>1</th>\n",
       "      <td>2.0</td>\n",
       "      <td>33536.0</td>\n",
       "      <td>26.0</td>\n",
       "      <td>183.0</td>\n",
       "      <td>0.0</td>\n",
       "    </tr>\n",
       "    <tr>\n",
       "      <th>2</th>\n",
       "      <td>3.0</td>\n",
       "      <td>38294.0</td>\n",
       "      <td>26.0</td>\n",
       "      <td>27.0</td>\n",
       "      <td>1.0</td>\n",
       "    </tr>\n",
       "    <tr>\n",
       "      <th>3</th>\n",
       "      <td>4.0</td>\n",
       "      <td>28619.0</td>\n",
       "      <td>152.0</td>\n",
       "      <td>203.0</td>\n",
       "      <td>0.0</td>\n",
       "    </tr>\n",
       "    <tr>\n",
       "      <th>4</th>\n",
       "      <td>5.0</td>\n",
       "      <td>27496.0</td>\n",
       "      <td>152.0</td>\n",
       "      <td>39.0</td>\n",
       "      <td>0.0</td>\n",
       "    </tr>\n",
       "    <tr>\n",
       "      <th>...</th>\n",
       "      <td>...</td>\n",
       "      <td>...</td>\n",
       "      <td>...</td>\n",
       "      <td>...</td>\n",
       "      <td>...</td>\n",
       "    </tr>\n",
       "    <tr>\n",
       "      <th>381104</th>\n",
       "      <td>381105.0</td>\n",
       "      <td>30170.0</td>\n",
       "      <td>26.0</td>\n",
       "      <td>88.0</td>\n",
       "      <td>0.0</td>\n",
       "    </tr>\n",
       "    <tr>\n",
       "      <th>381105</th>\n",
       "      <td>381106.0</td>\n",
       "      <td>40016.0</td>\n",
       "      <td>152.0</td>\n",
       "      <td>131.0</td>\n",
       "      <td>0.0</td>\n",
       "    </tr>\n",
       "    <tr>\n",
       "      <th>381106</th>\n",
       "      <td>381107.0</td>\n",
       "      <td>35118.0</td>\n",
       "      <td>160.0</td>\n",
       "      <td>161.0</td>\n",
       "      <td>0.0</td>\n",
       "    </tr>\n",
       "    <tr>\n",
       "      <th>381107</th>\n",
       "      <td>381108.0</td>\n",
       "      <td>44617.0</td>\n",
       "      <td>124.0</td>\n",
       "      <td>74.0</td>\n",
       "      <td>0.0</td>\n",
       "    </tr>\n",
       "    <tr>\n",
       "      <th>381108</th>\n",
       "      <td>381109.0</td>\n",
       "      <td>41777.0</td>\n",
       "      <td>26.0</td>\n",
       "      <td>237.0</td>\n",
       "      <td>0.0</td>\n",
       "    </tr>\n",
       "  </tbody>\n",
       "</table>\n",
       "<p>380722 rows × 5 columns</p>\n",
       "</div>"
      ],
      "text/plain": [
       "        customer_id  annual premium (in Rs)  sales channel code  vintage  \\\n",
       "0               1.0                 40454.0                26.0    217.0   \n",
       "1               2.0                 33536.0                26.0    183.0   \n",
       "2               3.0                 38294.0                26.0     27.0   \n",
       "3               4.0                 28619.0               152.0    203.0   \n",
       "4               5.0                 27496.0               152.0     39.0   \n",
       "...             ...                     ...                 ...      ...   \n",
       "381104     381105.0                 30170.0                26.0     88.0   \n",
       "381105     381106.0                 40016.0               152.0    131.0   \n",
       "381106     381107.0                 35118.0               160.0    161.0   \n",
       "381107     381108.0                 44617.0               124.0     74.0   \n",
       "381108     381109.0                 41777.0                26.0    237.0   \n",
       "\n",
       "        response  \n",
       "0            1.0  \n",
       "1            0.0  \n",
       "2            1.0  \n",
       "3            0.0  \n",
       "4            0.0  \n",
       "...          ...  \n",
       "381104       0.0  \n",
       "381105       0.0  \n",
       "381106       0.0  \n",
       "381107       0.0  \n",
       "381108       0.0  \n",
       "\n",
       "[380722 rows x 5 columns]"
      ]
     },
     "execution_count": 13,
     "metadata": {},
     "output_type": "execute_result"
    }
   ],
   "source": [
    "customer_policy_details.dropna(subset='customer_id',axis=0,inplace=True)\n",
    "customer_policy_details"
   ]
  },
  {
   "cell_type": "markdown",
   "id": "e2428d8e",
   "metadata": {},
   "source": [
    "##### Replace all null values for numeric columns by mean. "
   ]
  },
  {
   "cell_type": "code",
   "execution_count": 14,
   "id": "2ec8dcd6",
   "metadata": {},
   "outputs": [
    {
     "name": "stdout",
     "output_type": "stream",
     "text": [
      "38\n"
     ]
    }
   ],
   "source": [
    "# in custome_details age contains the only numerical values \n",
    "mean_age=int(customer_details['age'].mean())\n",
    "print(mean_age)"
   ]
  },
  {
   "cell_type": "code",
   "execution_count": 15,
   "id": "3a08a6cd",
   "metadata": {},
   "outputs": [],
   "source": [
    "customer_details['age'].fillna(mean_age,inplace=True)"
   ]
  },
  {
   "cell_type": "code",
   "execution_count": 16,
   "id": "078f1ce1",
   "metadata": {},
   "outputs": [],
   "source": [
    "# in custome_policy_details annual premium (in Rs) and vintage contains the numerical values \n",
    "customer_policy_details['annual premium (in Rs)'].fillna(customer_policy_details['annual premium (in Rs)'].mean(),inplace=True)"
   ]
  },
  {
   "cell_type": "code",
   "execution_count": 17,
   "id": "12bb782b",
   "metadata": {},
   "outputs": [
    {
     "name": "stdout",
     "output_type": "stream",
     "text": [
      "154\n"
     ]
    }
   ],
   "source": [
    "mean_vintage=int(customer_policy_details['vintage'].mean())\n",
    "print(mean_vintage)"
   ]
  },
  {
   "cell_type": "code",
   "execution_count": 18,
   "id": "2a042268",
   "metadata": {},
   "outputs": [],
   "source": [
    "customer_policy_details['vintage'].fillna(mean_vintage,inplace=True)"
   ]
  },
  {
   "cell_type": "markdown",
   "id": "1daa9b1d",
   "metadata": {},
   "source": [
    "##### Replace all null values for Categorical value by mode"
   ]
  },
  {
   "cell_type": "code",
   "execution_count": 19,
   "id": "914537cb",
   "metadata": {},
   "outputs": [],
   "source": [
    "# in custome_details other than age all are categorical columns\n",
    "mode_Gender=customer_details['Gender'].mode()[0]\n",
    "\n",
    "mode_licence_present=customer_details['driving licence present'].mode()[0]\n",
    "\n",
    "mode_region_code=customer_details['region code'].mode()[0]\n",
    "\n",
    "mode_previously_insured=customer_details['previously insured'].mode()[0]\n",
    "\n",
    "mode_vehicle_age=customer_details['vehicle age'].mode()[0]\n",
    "\n",
    "mode_vehicle_damage=customer_details['vehicle damage'].mode()[0]\n"
   ]
  },
  {
   "cell_type": "code",
   "execution_count": 20,
   "id": "b1abd27a",
   "metadata": {},
   "outputs": [],
   "source": [
    "customer_details['Gender'].fillna(mode_Gender,inplace=True)"
   ]
  },
  {
   "cell_type": "code",
   "execution_count": 21,
   "id": "620702f5",
   "metadata": {},
   "outputs": [],
   "source": [
    "customer_details['driving licence present'].fillna(mode_licence_present,inplace=True)"
   ]
  },
  {
   "cell_type": "code",
   "execution_count": 22,
   "id": "c4916371",
   "metadata": {},
   "outputs": [],
   "source": [
    "customer_details['region code'].fillna(mode_region_code,inplace=True)"
   ]
  },
  {
   "cell_type": "code",
   "execution_count": 23,
   "id": "74788975",
   "metadata": {},
   "outputs": [],
   "source": [
    "customer_details['previously insured'].fillna(mode_previously_insured,inplace=True)"
   ]
  },
  {
   "cell_type": "code",
   "execution_count": 24,
   "id": "16c69b10",
   "metadata": {},
   "outputs": [],
   "source": [
    "customer_details['vehicle age'].fillna(mode_vehicle_age,inplace=True)"
   ]
  },
  {
   "cell_type": "code",
   "execution_count": 25,
   "id": "64886986",
   "metadata": {},
   "outputs": [],
   "source": [
    "customer_details['vehicle damage'].fillna(mode_vehicle_damage,inplace=True)"
   ]
  },
  {
   "cell_type": "code",
   "execution_count": 26,
   "id": "aba07795",
   "metadata": {},
   "outputs": [],
   "source": [
    "# in custome_policy_details sales channel code and response are categorical columns\n",
    "customer_policy_details['sales channel code'].fillna(customer_policy_details['sales channel code'].mode()[0],inplace=True)\n",
    "customer_policy_details['response'].fillna(customer_policy_details['response'].mode()[0],inplace=True)"
   ]
  },
  {
   "cell_type": "markdown",
   "id": "3d8a0a47",
   "metadata": {},
   "source": [
    "##### Generate a summary of count of all the outliers column wise"
   ]
  },
  {
   "cell_type": "code",
   "execution_count": 27,
   "id": "65859ddd",
   "metadata": {},
   "outputs": [],
   "source": [
    "# finding outliers range for customer details"
   ]
  },
  {
   "cell_type": "code",
   "execution_count": 28,
   "id": "a3ff1758",
   "metadata": {},
   "outputs": [],
   "source": [
    "Q=customer_details.describe()"
   ]
  },
  {
   "cell_type": "code",
   "execution_count": 29,
   "id": "3c003b3b",
   "metadata": {},
   "outputs": [
    {
     "data": {
      "text/plain": [
       "customer_id                95269.5\n",
       "age                           25.0\n",
       "driving licence present        1.0\n",
       "region code                   15.0\n",
       "previously insured             0.0\n",
       "Name: 25%, dtype: float64"
      ]
     },
     "execution_count": 29,
     "metadata": {},
     "output_type": "execute_result"
    }
   ],
   "source": [
    "Q1=Q.loc['25%']\n",
    "Q1"
   ]
  },
  {
   "cell_type": "code",
   "execution_count": 30,
   "id": "23b0a3be",
   "metadata": {},
   "outputs": [
    {
     "data": {
      "text/plain": [
       "customer_id                285822.5\n",
       "age                            49.0\n",
       "driving licence present         1.0\n",
       "region code                    35.0\n",
       "previously insured              1.0\n",
       "Name: 75%, dtype: float64"
      ]
     },
     "execution_count": 30,
     "metadata": {},
     "output_type": "execute_result"
    }
   ],
   "source": [
    "Q3=Q.loc['75%']\n",
    "Q3"
   ]
  },
  {
   "cell_type": "code",
   "execution_count": 31,
   "id": "c8ece872",
   "metadata": {},
   "outputs": [],
   "source": [
    "IQR=Q3-Q1"
   ]
  },
  {
   "cell_type": "code",
   "execution_count": 32,
   "id": "e01ada1f",
   "metadata": {},
   "outputs": [
    {
     "data": {
      "text/plain": [
       "customer_id                190553.0\n",
       "age                            24.0\n",
       "driving licence present         0.0\n",
       "region code                    20.0\n",
       "previously insured              1.0\n",
       "dtype: float64"
      ]
     },
     "execution_count": 32,
     "metadata": {},
     "output_type": "execute_result"
    }
   ],
   "source": [
    "IQR"
   ]
  },
  {
   "cell_type": "code",
   "execution_count": 33,
   "id": "e3232097",
   "metadata": {},
   "outputs": [
    {
     "data": {
      "text/plain": [
       "customer_id               -190560.0\n",
       "age                           -11.0\n",
       "driving licence present         1.0\n",
       "region code                   -15.0\n",
       "previously insured             -1.5\n",
       "dtype: float64"
      ]
     },
     "execution_count": 33,
     "metadata": {},
     "output_type": "execute_result"
    }
   ],
   "source": [
    "Lower_band=Q1-(1.5*(IQR))\n",
    "Upper_band=Q3+(1.5*(IQR))\n",
    "Lower_band"
   ]
  },
  {
   "cell_type": "code",
   "execution_count": 34,
   "id": "3f2e1ebf",
   "metadata": {},
   "outputs": [
    {
     "data": {
      "text/plain": [
       "customer_id                571652.0\n",
       "age                            85.0\n",
       "driving licence present         1.0\n",
       "region code                    65.0\n",
       "previously insured              2.5\n",
       "dtype: float64"
      ]
     },
     "execution_count": 34,
     "metadata": {},
     "output_type": "execute_result"
    }
   ],
   "source": [
    "Upper_band"
   ]
  },
  {
   "cell_type": "code",
   "execution_count": 35,
   "id": "c9cbba2c",
   "metadata": {},
   "outputs": [],
   "source": [
    "# count the no. of out liers"
   ]
  },
  {
   "cell_type": "code",
   "execution_count": 36,
   "id": "8f796fe9",
   "metadata": {},
   "outputs": [
    {
     "name": "stderr",
     "output_type": "stream",
     "text": [
      "C:\\Users\\Shouvik\\AppData\\Local\\Temp\\ipykernel_4348\\18624086.py:1: FutureWarning: Automatic reindexing on DataFrame vs Series comparisons is deprecated and will raise ValueError in a future version. Do `left, right = left.align(right, axis=1, copy=False)` before e.g. `left == right`\n",
      "  outliers=customer_details[(customer_details<Lower_band) | (customer_details>Upper_band)]\n"
     ]
    }
   ],
   "source": [
    "outliers=customer_details[(customer_details<Lower_band) | (customer_details>Upper_band)]"
   ]
  },
  {
   "cell_type": "code",
   "execution_count": 37,
   "id": "8b98cb21",
   "metadata": {},
   "outputs": [
    {
     "name": "stdout",
     "output_type": "stream",
     "text": [
      "The outlier for customer_id is 0\n",
      "The outlier for Gender is 0\n",
      "The outlier for age is 0\n",
      "The outlier for driving licence present is 811\n",
      "The outlier for region code is 0\n",
      "The outlier for previously insured is 0\n",
      "The outlier for vehicle age is 0\n",
      "The outlier for vehicle damage is 0\n"
     ]
    }
   ],
   "source": [
    "outlier_count=outliers.count()\n",
    "\n",
    "for i in outlier_count.index:\n",
    "    print(f\"The outlier for {i} is {outlier_count[i]}\")"
   ]
  },
  {
   "cell_type": "code",
   "execution_count": 38,
   "id": "34da9b33",
   "metadata": {},
   "outputs": [],
   "source": [
    "# it shows the outlier for driving licence present is 811 but as a categorical column it is not consided as a outlier\n",
    "# We can conclude that , 811 customer don,t have a DL."
   ]
  },
  {
   "cell_type": "code",
   "execution_count": 39,
   "id": "882c3311",
   "metadata": {},
   "outputs": [
    {
     "data": {
      "image/png": "[encoded data removed]",
      "text/plain": [
       "<Figure size 640x480 with 1 Axes>"
      ]
     },
     "metadata": {},
     "output_type": "display_data"
    }
   ],
   "source": [
    "import matplotlib.pyplot as plt\n",
    "\n",
    "plt.boxplot(customer_details['age'])\n",
    "plt.ylabel('age')\n",
    "plt.show()"
   ]
  },
  {
   "cell_type": "code",
   "execution_count": 40,
   "id": "ec79b5f4",
   "metadata": {},
   "outputs": [],
   "source": [
    "# finding outliers range customer policy details"
   ]
  },
  {
   "cell_type": "code",
   "execution_count": 41,
   "id": "2738fe00",
   "metadata": {},
   "outputs": [],
   "source": [
    "Qp=customer_policy_details.describe()"
   ]
  },
  {
   "cell_type": "code",
   "execution_count": 42,
   "id": "6a1baaaa",
   "metadata": {},
   "outputs": [
    {
     "data": {
      "text/plain": [
       "customer_id               95276.25\n",
       "annual premium (in Rs)    24416.00\n",
       "sales channel code           29.00\n",
       "vintage                      82.00\n",
       "response                      0.00\n",
       "Name: 25%, dtype: float64"
      ]
     },
     "execution_count": 42,
     "metadata": {},
     "output_type": "execute_result"
    }
   ],
   "source": [
    "Qp1=Qp.loc['25%']\n",
    "Qp1"
   ]
  },
  {
   "cell_type": "code",
   "execution_count": 43,
   "id": "0a265f61",
   "metadata": {},
   "outputs": [
    {
     "data": {
      "text/plain": [
       "customer_id               285818.75\n",
       "annual premium (in Rs)     39391.75\n",
       "sales channel code           152.00\n",
       "vintage                      227.00\n",
       "response                       0.00\n",
       "Name: 75%, dtype: float64"
      ]
     },
     "execution_count": 43,
     "metadata": {},
     "output_type": "execute_result"
    }
   ],
   "source": [
    "Qp3=Qp.loc['75%']\n",
    "Qp3"
   ]
  },
  {
   "cell_type": "code",
   "execution_count": 44,
   "id": "9077f16e",
   "metadata": {},
   "outputs": [],
   "source": [
    "IQRp=Qp3-Qp1"
   ]
  },
  {
   "cell_type": "code",
   "execution_count": 45,
   "id": "e13d11f8",
   "metadata": {},
   "outputs": [
    {
     "data": {
      "text/plain": [
       "customer_id               190542.50\n",
       "annual premium (in Rs)     14975.75\n",
       "sales channel code           123.00\n",
       "vintage                      145.00\n",
       "response                       0.00\n",
       "dtype: float64"
      ]
     },
     "execution_count": 45,
     "metadata": {},
     "output_type": "execute_result"
    }
   ],
   "source": [
    "IQRp"
   ]
  },
  {
   "cell_type": "code",
   "execution_count": 46,
   "id": "2c90ff75",
   "metadata": {},
   "outputs": [
    {
     "data": {
      "text/plain": [
       "customer_id              -190537.500\n",
       "annual premium (in Rs)      1952.375\n",
       "sales channel code          -155.500\n",
       "vintage                     -135.500\n",
       "response                       0.000\n",
       "dtype: float64"
      ]
     },
     "execution_count": 46,
     "metadata": {},
     "output_type": "execute_result"
    }
   ],
   "source": [
    "Lower_bandp=Qp1-(1.5*(IQRp))\n",
    "Upper_bandp=Qp3+(1.5*(IQRp))\n",
    "Lower_bandp"
   ]
  },
  {
   "cell_type": "code",
   "execution_count": 47,
   "id": "0e161391",
   "metadata": {},
   "outputs": [
    {
     "data": {
      "text/plain": [
       "customer_id               571632.500\n",
       "annual premium (in Rs)     61855.375\n",
       "sales channel code           336.500\n",
       "vintage                      444.500\n",
       "response                       0.000\n",
       "dtype: float64"
      ]
     },
     "execution_count": 47,
     "metadata": {},
     "output_type": "execute_result"
    }
   ],
   "source": [
    "Upper_bandp"
   ]
  },
  {
   "cell_type": "code",
   "execution_count": 48,
   "id": "b252dae3",
   "metadata": {},
   "outputs": [],
   "source": [
    "# count the no. of out liers"
   ]
  },
  {
   "cell_type": "code",
   "execution_count": 49,
   "id": "8f30c306",
   "metadata": {},
   "outputs": [],
   "source": [
    "outliers_p=customer_policy_details[(customer_policy_details<Lower_bandp) | (customer_policy_details>Upper_bandp)]"
   ]
  },
  {
   "cell_type": "code",
   "execution_count": 50,
   "id": "3ae295db",
   "metadata": {},
   "outputs": [
    {
     "name": "stdout",
     "output_type": "stream",
     "text": [
      "The outlier for customer_id is 0\n",
      "The outlier for annual premium (in Rs) is 10332\n",
      "The outlier for sales channel code is 0\n",
      "The outlier for vintage is 0\n",
      "The outlier for response is 46604\n"
     ]
    }
   ],
   "source": [
    "outlier_count_p=outliers_p.count()\n",
    "\n",
    "for j in outlier_count_p.index:\n",
    "    print(f\"The outlier for {j} is {outlier_count_p[j]}\")"
   ]
  },
  {
   "cell_type": "code",
   "execution_count": 51,
   "id": "dbc85ba6",
   "metadata": {},
   "outputs": [],
   "source": [
    "# In 'response' values = 1.0 is counted as a outlier.\n",
    "# but response' is a categorical column so that there is no outlier practically."
   ]
  },
  {
   "cell_type": "code",
   "execution_count": 52,
   "id": "13389085",
   "metadata": {},
   "outputs": [
    {
     "data": {
      "image/png": "[encoded data removed]",
      "text/plain": [
       "<Figure size 640x480 with 1 Axes>"
      ]
     },
     "metadata": {},
     "output_type": "display_data"
    },
    {
     "data": {
      "image/png": "[encoded data removed]",
      "text/plain": [
       "<Figure size 640x480 with 1 Axes>"
      ]
     },
     "metadata": {},
     "output_type": "display_data"
    }
   ],
   "source": [
    "import matplotlib.pyplot as plt\n",
    "# for numerical column\n",
    "plt.boxplot(customer_policy_details['annual premium (in Rs)'])\n",
    "plt.ylabel('annual premium (in Rs)')\n",
    "plt.show()\n",
    "\n",
    "plt.boxplot(customer_policy_details['vintage'])\n",
    "plt.ylabel('vintage')\n",
    "plt.show()\n"
   ]
  },
  {
   "cell_type": "markdown",
   "id": "5cb4fdd1",
   "metadata": {},
   "source": [
    "##### Replace all outlier values for numeric columns by mean. "
   ]
  },
  {
   "cell_type": "code",
   "execution_count": 53,
   "id": "d33db6a0",
   "metadata": {},
   "outputs": [],
   "source": [
    "# though we have outliers only on the 'annual premium (in Rs)' in customer policy table so we change it with the mean\n",
    "\n",
    "outlliers_amount=(customer_policy_details[((customer_policy_details['annual premium (in Rs)'])<(Lower_bandp['annual premium (in Rs)'])) | ((customer_policy_details['annual premium (in Rs)'])>(Upper_bandp['annual premium (in Rs)']))])['annual premium (in Rs)']"
   ]
  },
  {
   "cell_type": "code",
   "execution_count": 54,
   "id": "91397f3c",
   "metadata": {},
   "outputs": [],
   "source": [
    "customer_policy_details.loc[outlliers_amount.index,'annual premium (in Rs)']=customer_policy_details['annual premium (in Rs)'].mean()"
   ]
  },
  {
   "cell_type": "markdown",
   "id": "d3aba2a8",
   "metadata": {},
   "source": [
    "##### Remove white spaces"
   ]
  },
  {
   "cell_type": "code",
   "execution_count": 55,
   "id": "bd3df084",
   "metadata": {
    "scrolled": true
   },
   "outputs": [],
   "source": [
    "customer_details['vehicle age']=customer_details['vehicle age'].str.strip()"
   ]
  },
  {
   "cell_type": "code",
   "execution_count": 56,
   "id": "fb0c1cfa",
   "metadata": {},
   "outputs": [],
   "source": [
    "customer_details['vehicle age']=customer_details['vehicle age'].str.replace(\" \",\"\")"
   ]
  },
  {
   "cell_type": "code",
   "execution_count": 57,
   "id": "2cdb266d",
   "metadata": {},
   "outputs": [
    {
     "data": {
      "text/plain": [
       "0         >2Years\n",
       "1         1-2Year\n",
       "2         >2Years\n",
       "3          <1Year\n",
       "4          <1Year\n",
       "           ...   \n",
       "381104    1-2Year\n",
       "381105     <1Year\n",
       "381106     <1Year\n",
       "381107    >2Years\n",
       "381108    1-2Year\n",
       "Name: vehicle age, Length: 380723, dtype: object"
      ]
     },
     "execution_count": 57,
     "metadata": {},
     "output_type": "execute_result"
    }
   ],
   "source": [
    "customer_details['vehicle age']"
   ]
  },
  {
   "cell_type": "markdown",
   "id": "1cacca8d",
   "metadata": {},
   "source": [
    "##### case correction(lower) "
   ]
  },
  {
   "cell_type": "code",
   "execution_count": 58,
   "id": "b26b0ea5",
   "metadata": {},
   "outputs": [],
   "source": [
    "customer_details.columns=['customer_id','gender','age','driving licence present','region code','previously insured','vehicle age','vehicle damage']"
   ]
  },
  {
   "cell_type": "code",
   "execution_count": 59,
   "id": "619f3874",
   "metadata": {},
   "outputs": [],
   "source": [
    "def type_of(series):\n",
    "    for value in series:\n",
    "        if isinstance(value, str):\n",
    "            return str\n",
    "\n",
    "\n",
    "def chang_lower(df):\n",
    "    for column in df.columns:\n",
    "        col_type = type_of(df[column])\n",
    "        if col_type == str:\n",
    "            df[column] = df[column].str.lower()\n",
    "    return df\n"
   ]
  },
  {
   "cell_type": "code",
   "execution_count": 60,
   "id": "bb1da5a4",
   "metadata": {},
   "outputs": [
    {
     "data": {
      "text/html": [
       "<div>\n",
       "<style scoped>\n",
       "    .dataframe tbody tr th:only-of-type {\n",
       "        vertical-align: middle;\n",
       "    }\n",
       "\n",
       "    .dataframe tbody tr th {\n",
       "        vertical-align: top;\n",
       "    }\n",
       "\n",
       "    .dataframe thead th {\n",
       "        text-align: right;\n",
       "    }\n",
       "</style>\n",
       "<table border=\"1\" class=\"dataframe\">\n",
       "  <thead>\n",
       "    <tr style=\"text-align: right;\">\n",
       "      <th></th>\n",
       "      <th>customer_id</th>\n",
       "      <th>gender</th>\n",
       "      <th>age</th>\n",
       "      <th>driving licence present</th>\n",
       "      <th>region code</th>\n",
       "      <th>previously insured</th>\n",
       "      <th>vehicle age</th>\n",
       "      <th>vehicle damage</th>\n",
       "    </tr>\n",
       "  </thead>\n",
       "  <tbody>\n",
       "    <tr>\n",
       "      <th>0</th>\n",
       "      <td>1.0</td>\n",
       "      <td>male</td>\n",
       "      <td>44.0</td>\n",
       "      <td>1.0</td>\n",
       "      <td>28.0</td>\n",
       "      <td>0.0</td>\n",
       "      <td>&gt;2years</td>\n",
       "      <td>yes</td>\n",
       "    </tr>\n",
       "    <tr>\n",
       "      <th>1</th>\n",
       "      <td>2.0</td>\n",
       "      <td>male</td>\n",
       "      <td>76.0</td>\n",
       "      <td>1.0</td>\n",
       "      <td>3.0</td>\n",
       "      <td>0.0</td>\n",
       "      <td>1-2year</td>\n",
       "      <td>no</td>\n",
       "    </tr>\n",
       "    <tr>\n",
       "      <th>2</th>\n",
       "      <td>3.0</td>\n",
       "      <td>male</td>\n",
       "      <td>47.0</td>\n",
       "      <td>1.0</td>\n",
       "      <td>28.0</td>\n",
       "      <td>0.0</td>\n",
       "      <td>&gt;2years</td>\n",
       "      <td>yes</td>\n",
       "    </tr>\n",
       "    <tr>\n",
       "      <th>3</th>\n",
       "      <td>4.0</td>\n",
       "      <td>male</td>\n",
       "      <td>21.0</td>\n",
       "      <td>1.0</td>\n",
       "      <td>11.0</td>\n",
       "      <td>1.0</td>\n",
       "      <td>&lt;1year</td>\n",
       "      <td>no</td>\n",
       "    </tr>\n",
       "    <tr>\n",
       "      <th>4</th>\n",
       "      <td>5.0</td>\n",
       "      <td>female</td>\n",
       "      <td>29.0</td>\n",
       "      <td>1.0</td>\n",
       "      <td>41.0</td>\n",
       "      <td>1.0</td>\n",
       "      <td>&lt;1year</td>\n",
       "      <td>no</td>\n",
       "    </tr>\n",
       "    <tr>\n",
       "      <th>...</th>\n",
       "      <td>...</td>\n",
       "      <td>...</td>\n",
       "      <td>...</td>\n",
       "      <td>...</td>\n",
       "      <td>...</td>\n",
       "      <td>...</td>\n",
       "      <td>...</td>\n",
       "      <td>...</td>\n",
       "    </tr>\n",
       "    <tr>\n",
       "      <th>381104</th>\n",
       "      <td>381105.0</td>\n",
       "      <td>male</td>\n",
       "      <td>74.0</td>\n",
       "      <td>1.0</td>\n",
       "      <td>26.0</td>\n",
       "      <td>1.0</td>\n",
       "      <td>1-2year</td>\n",
       "      <td>no</td>\n",
       "    </tr>\n",
       "    <tr>\n",
       "      <th>381105</th>\n",
       "      <td>381106.0</td>\n",
       "      <td>male</td>\n",
       "      <td>30.0</td>\n",
       "      <td>1.0</td>\n",
       "      <td>37.0</td>\n",
       "      <td>1.0</td>\n",
       "      <td>&lt;1year</td>\n",
       "      <td>no</td>\n",
       "    </tr>\n",
       "    <tr>\n",
       "      <th>381106</th>\n",
       "      <td>381107.0</td>\n",
       "      <td>male</td>\n",
       "      <td>21.0</td>\n",
       "      <td>1.0</td>\n",
       "      <td>30.0</td>\n",
       "      <td>1.0</td>\n",
       "      <td>&lt;1year</td>\n",
       "      <td>no</td>\n",
       "    </tr>\n",
       "    <tr>\n",
       "      <th>381107</th>\n",
       "      <td>381108.0</td>\n",
       "      <td>female</td>\n",
       "      <td>68.0</td>\n",
       "      <td>1.0</td>\n",
       "      <td>14.0</td>\n",
       "      <td>0.0</td>\n",
       "      <td>&gt;2years</td>\n",
       "      <td>yes</td>\n",
       "    </tr>\n",
       "    <tr>\n",
       "      <th>381108</th>\n",
       "      <td>381109.0</td>\n",
       "      <td>male</td>\n",
       "      <td>46.0</td>\n",
       "      <td>1.0</td>\n",
       "      <td>29.0</td>\n",
       "      <td>0.0</td>\n",
       "      <td>1-2year</td>\n",
       "      <td>no</td>\n",
       "    </tr>\n",
       "  </tbody>\n",
       "</table>\n",
       "<p>380723 rows × 8 columns</p>\n",
       "</div>"
      ],
      "text/plain": [
       "        customer_id  gender   age  driving licence present  region code  \\\n",
       "0               1.0    male  44.0                      1.0         28.0   \n",
       "1               2.0    male  76.0                      1.0          3.0   \n",
       "2               3.0    male  47.0                      1.0         28.0   \n",
       "3               4.0    male  21.0                      1.0         11.0   \n",
       "4               5.0  female  29.0                      1.0         41.0   \n",
       "...             ...     ...   ...                      ...          ...   \n",
       "381104     381105.0    male  74.0                      1.0         26.0   \n",
       "381105     381106.0    male  30.0                      1.0         37.0   \n",
       "381106     381107.0    male  21.0                      1.0         30.0   \n",
       "381107     381108.0  female  68.0                      1.0         14.0   \n",
       "381108     381109.0    male  46.0                      1.0         29.0   \n",
       "\n",
       "        previously insured vehicle age vehicle damage  \n",
       "0                      0.0     >2years            yes  \n",
       "1                      0.0     1-2year             no  \n",
       "2                      0.0     >2years            yes  \n",
       "3                      1.0      <1year             no  \n",
       "4                      1.0      <1year             no  \n",
       "...                    ...         ...            ...  \n",
       "381104                 1.0     1-2year             no  \n",
       "381105                 1.0      <1year             no  \n",
       "381106                 1.0      <1year             no  \n",
       "381107                 0.0     >2years            yes  \n",
       "381108                 0.0     1-2year             no  \n",
       "\n",
       "[380723 rows x 8 columns]"
      ]
     },
     "execution_count": 60,
     "metadata": {},
     "output_type": "execute_result"
    }
   ],
   "source": [
    "chang_lower(customer_details)"
   ]
  },
  {
   "cell_type": "code",
   "execution_count": 61,
   "id": "9a7699ef",
   "metadata": {},
   "outputs": [
    {
     "data": {
      "text/html": [
       "<div>\n",
       "<style scoped>\n",
       "    .dataframe tbody tr th:only-of-type {\n",
       "        vertical-align: middle;\n",
       "    }\n",
       "\n",
       "    .dataframe tbody tr th {\n",
       "        vertical-align: top;\n",
       "    }\n",
       "\n",
       "    .dataframe thead th {\n",
       "        text-align: right;\n",
       "    }\n",
       "</style>\n",
       "<table border=\"1\" class=\"dataframe\">\n",
       "  <thead>\n",
       "    <tr style=\"text-align: right;\">\n",
       "      <th></th>\n",
       "      <th>customer_id</th>\n",
       "      <th>annual premium (in Rs)</th>\n",
       "      <th>sales channel code</th>\n",
       "      <th>vintage</th>\n",
       "      <th>response</th>\n",
       "    </tr>\n",
       "  </thead>\n",
       "  <tbody>\n",
       "    <tr>\n",
       "      <th>0</th>\n",
       "      <td>1.0</td>\n",
       "      <td>40454.0</td>\n",
       "      <td>26.0</td>\n",
       "      <td>217.0</td>\n",
       "      <td>1.0</td>\n",
       "    </tr>\n",
       "    <tr>\n",
       "      <th>1</th>\n",
       "      <td>2.0</td>\n",
       "      <td>33536.0</td>\n",
       "      <td>26.0</td>\n",
       "      <td>183.0</td>\n",
       "      <td>0.0</td>\n",
       "    </tr>\n",
       "    <tr>\n",
       "      <th>2</th>\n",
       "      <td>3.0</td>\n",
       "      <td>38294.0</td>\n",
       "      <td>26.0</td>\n",
       "      <td>27.0</td>\n",
       "      <td>1.0</td>\n",
       "    </tr>\n",
       "    <tr>\n",
       "      <th>3</th>\n",
       "      <td>4.0</td>\n",
       "      <td>28619.0</td>\n",
       "      <td>152.0</td>\n",
       "      <td>203.0</td>\n",
       "      <td>0.0</td>\n",
       "    </tr>\n",
       "    <tr>\n",
       "      <th>4</th>\n",
       "      <td>5.0</td>\n",
       "      <td>27496.0</td>\n",
       "      <td>152.0</td>\n",
       "      <td>39.0</td>\n",
       "      <td>0.0</td>\n",
       "    </tr>\n",
       "    <tr>\n",
       "      <th>...</th>\n",
       "      <td>...</td>\n",
       "      <td>...</td>\n",
       "      <td>...</td>\n",
       "      <td>...</td>\n",
       "      <td>...</td>\n",
       "    </tr>\n",
       "    <tr>\n",
       "      <th>381104</th>\n",
       "      <td>381105.0</td>\n",
       "      <td>30170.0</td>\n",
       "      <td>26.0</td>\n",
       "      <td>88.0</td>\n",
       "      <td>0.0</td>\n",
       "    </tr>\n",
       "    <tr>\n",
       "      <th>381105</th>\n",
       "      <td>381106.0</td>\n",
       "      <td>40016.0</td>\n",
       "      <td>152.0</td>\n",
       "      <td>131.0</td>\n",
       "      <td>0.0</td>\n",
       "    </tr>\n",
       "    <tr>\n",
       "      <th>381106</th>\n",
       "      <td>381107.0</td>\n",
       "      <td>35118.0</td>\n",
       "      <td>160.0</td>\n",
       "      <td>161.0</td>\n",
       "      <td>0.0</td>\n",
       "    </tr>\n",
       "    <tr>\n",
       "      <th>381107</th>\n",
       "      <td>381108.0</td>\n",
       "      <td>44617.0</td>\n",
       "      <td>124.0</td>\n",
       "      <td>74.0</td>\n",
       "      <td>0.0</td>\n",
       "    </tr>\n",
       "    <tr>\n",
       "      <th>381108</th>\n",
       "      <td>381109.0</td>\n",
       "      <td>41777.0</td>\n",
       "      <td>26.0</td>\n",
       "      <td>237.0</td>\n",
       "      <td>0.0</td>\n",
       "    </tr>\n",
       "  </tbody>\n",
       "</table>\n",
       "<p>380722 rows × 5 columns</p>\n",
       "</div>"
      ],
      "text/plain": [
       "        customer_id  annual premium (in Rs)  sales channel code  vintage  \\\n",
       "0               1.0                 40454.0                26.0    217.0   \n",
       "1               2.0                 33536.0                26.0    183.0   \n",
       "2               3.0                 38294.0                26.0     27.0   \n",
       "3               4.0                 28619.0               152.0    203.0   \n",
       "4               5.0                 27496.0               152.0     39.0   \n",
       "...             ...                     ...                 ...      ...   \n",
       "381104     381105.0                 30170.0                26.0     88.0   \n",
       "381105     381106.0                 40016.0               152.0    131.0   \n",
       "381106     381107.0                 35118.0               160.0    161.0   \n",
       "381107     381108.0                 44617.0               124.0     74.0   \n",
       "381108     381109.0                 41777.0                26.0    237.0   \n",
       "\n",
       "        response  \n",
       "0            1.0  \n",
       "1            0.0  \n",
       "2            1.0  \n",
       "3            0.0  \n",
       "4            0.0  \n",
       "...          ...  \n",
       "381104       0.0  \n",
       "381105       0.0  \n",
       "381106       0.0  \n",
       "381107       0.0  \n",
       "381108       0.0  \n",
       "\n",
       "[380722 rows x 5 columns]"
      ]
     },
     "execution_count": 61,
     "metadata": {},
     "output_type": "execute_result"
    }
   ],
   "source": [
    "chang_lower(customer_policy_details)"
   ]
  },
  {
   "cell_type": "markdown",
   "id": "aaed0834",
   "metadata": {},
   "source": [
    "##### changing the data points into dummies as per needed"
   ]
  },
  {
   "cell_type": "code",
   "execution_count": 62,
   "id": "a06b95d9",
   "metadata": {},
   "outputs": [
    {
     "data": {
      "text/html": [
       "<div>\n",
       "<style scoped>\n",
       "    .dataframe tbody tr th:only-of-type {\n",
       "        vertical-align: middle;\n",
       "    }\n",
       "\n",
       "    .dataframe tbody tr th {\n",
       "        vertical-align: top;\n",
       "    }\n",
       "\n",
       "    .dataframe thead th {\n",
       "        text-align: right;\n",
       "    }\n",
       "</style>\n",
       "<table border=\"1\" class=\"dataframe\">\n",
       "  <thead>\n",
       "    <tr style=\"text-align: right;\">\n",
       "      <th></th>\n",
       "      <th>customer_id</th>\n",
       "      <th>age</th>\n",
       "      <th>driving licence present</th>\n",
       "      <th>region code</th>\n",
       "      <th>previously insured</th>\n",
       "      <th>gender_female</th>\n",
       "      <th>gender_male</th>\n",
       "      <th>vehicle age_1-2year</th>\n",
       "      <th>vehicle age_&lt;1year</th>\n",
       "      <th>vehicle age_&gt;2years</th>\n",
       "      <th>vehicle damage_no</th>\n",
       "      <th>vehicle damage_yes</th>\n",
       "    </tr>\n",
       "  </thead>\n",
       "  <tbody>\n",
       "    <tr>\n",
       "      <th>0</th>\n",
       "      <td>1.0</td>\n",
       "      <td>44.0</td>\n",
       "      <td>1.0</td>\n",
       "      <td>28.0</td>\n",
       "      <td>0.0</td>\n",
       "      <td>0</td>\n",
       "      <td>1</td>\n",
       "      <td>0</td>\n",
       "      <td>0</td>\n",
       "      <td>1</td>\n",
       "      <td>0</td>\n",
       "      <td>1</td>\n",
       "    </tr>\n",
       "    <tr>\n",
       "      <th>1</th>\n",
       "      <td>2.0</td>\n",
       "      <td>76.0</td>\n",
       "      <td>1.0</td>\n",
       "      <td>3.0</td>\n",
       "      <td>0.0</td>\n",
       "      <td>0</td>\n",
       "      <td>1</td>\n",
       "      <td>1</td>\n",
       "      <td>0</td>\n",
       "      <td>0</td>\n",
       "      <td>1</td>\n",
       "      <td>0</td>\n",
       "    </tr>\n",
       "    <tr>\n",
       "      <th>2</th>\n",
       "      <td>3.0</td>\n",
       "      <td>47.0</td>\n",
       "      <td>1.0</td>\n",
       "      <td>28.0</td>\n",
       "      <td>0.0</td>\n",
       "      <td>0</td>\n",
       "      <td>1</td>\n",
       "      <td>0</td>\n",
       "      <td>0</td>\n",
       "      <td>1</td>\n",
       "      <td>0</td>\n",
       "      <td>1</td>\n",
       "    </tr>\n",
       "    <tr>\n",
       "      <th>3</th>\n",
       "      <td>4.0</td>\n",
       "      <td>21.0</td>\n",
       "      <td>1.0</td>\n",
       "      <td>11.0</td>\n",
       "      <td>1.0</td>\n",
       "      <td>0</td>\n",
       "      <td>1</td>\n",
       "      <td>0</td>\n",
       "      <td>1</td>\n",
       "      <td>0</td>\n",
       "      <td>1</td>\n",
       "      <td>0</td>\n",
       "    </tr>\n",
       "    <tr>\n",
       "      <th>4</th>\n",
       "      <td>5.0</td>\n",
       "      <td>29.0</td>\n",
       "      <td>1.0</td>\n",
       "      <td>41.0</td>\n",
       "      <td>1.0</td>\n",
       "      <td>1</td>\n",
       "      <td>0</td>\n",
       "      <td>0</td>\n",
       "      <td>1</td>\n",
       "      <td>0</td>\n",
       "      <td>1</td>\n",
       "      <td>0</td>\n",
       "    </tr>\n",
       "    <tr>\n",
       "      <th>...</th>\n",
       "      <td>...</td>\n",
       "      <td>...</td>\n",
       "      <td>...</td>\n",
       "      <td>...</td>\n",
       "      <td>...</td>\n",
       "      <td>...</td>\n",
       "      <td>...</td>\n",
       "      <td>...</td>\n",
       "      <td>...</td>\n",
       "      <td>...</td>\n",
       "      <td>...</td>\n",
       "      <td>...</td>\n",
       "    </tr>\n",
       "    <tr>\n",
       "      <th>381104</th>\n",
       "      <td>381105.0</td>\n",
       "      <td>74.0</td>\n",
       "      <td>1.0</td>\n",
       "      <td>26.0</td>\n",
       "      <td>1.0</td>\n",
       "      <td>0</td>\n",
       "      <td>1</td>\n",
       "      <td>1</td>\n",
       "      <td>0</td>\n",
       "      <td>0</td>\n",
       "      <td>1</td>\n",
       "      <td>0</td>\n",
       "    </tr>\n",
       "    <tr>\n",
       "      <th>381105</th>\n",
       "      <td>381106.0</td>\n",
       "      <td>30.0</td>\n",
       "      <td>1.0</td>\n",
       "      <td>37.0</td>\n",
       "      <td>1.0</td>\n",
       "      <td>0</td>\n",
       "      <td>1</td>\n",
       "      <td>0</td>\n",
       "      <td>1</td>\n",
       "      <td>0</td>\n",
       "      <td>1</td>\n",
       "      <td>0</td>\n",
       "    </tr>\n",
       "    <tr>\n",
       "      <th>381106</th>\n",
       "      <td>381107.0</td>\n",
       "      <td>21.0</td>\n",
       "      <td>1.0</td>\n",
       "      <td>30.0</td>\n",
       "      <td>1.0</td>\n",
       "      <td>0</td>\n",
       "      <td>1</td>\n",
       "      <td>0</td>\n",
       "      <td>1</td>\n",
       "      <td>0</td>\n",
       "      <td>1</td>\n",
       "      <td>0</td>\n",
       "    </tr>\n",
       "    <tr>\n",
       "      <th>381107</th>\n",
       "      <td>381108.0</td>\n",
       "      <td>68.0</td>\n",
       "      <td>1.0</td>\n",
       "      <td>14.0</td>\n",
       "      <td>0.0</td>\n",
       "      <td>1</td>\n",
       "      <td>0</td>\n",
       "      <td>0</td>\n",
       "      <td>0</td>\n",
       "      <td>1</td>\n",
       "      <td>0</td>\n",
       "      <td>1</td>\n",
       "    </tr>\n",
       "    <tr>\n",
       "      <th>381108</th>\n",
       "      <td>381109.0</td>\n",
       "      <td>46.0</td>\n",
       "      <td>1.0</td>\n",
       "      <td>29.0</td>\n",
       "      <td>0.0</td>\n",
       "      <td>0</td>\n",
       "      <td>1</td>\n",
       "      <td>1</td>\n",
       "      <td>0</td>\n",
       "      <td>0</td>\n",
       "      <td>1</td>\n",
       "      <td>0</td>\n",
       "    </tr>\n",
       "  </tbody>\n",
       "</table>\n",
       "<p>380723 rows × 12 columns</p>\n",
       "</div>"
      ],
      "text/plain": [
       "        customer_id   age  driving licence present  region code  \\\n",
       "0               1.0  44.0                      1.0         28.0   \n",
       "1               2.0  76.0                      1.0          3.0   \n",
       "2               3.0  47.0                      1.0         28.0   \n",
       "3               4.0  21.0                      1.0         11.0   \n",
       "4               5.0  29.0                      1.0         41.0   \n",
       "...             ...   ...                      ...          ...   \n",
       "381104     381105.0  74.0                      1.0         26.0   \n",
       "381105     381106.0  30.0                      1.0         37.0   \n",
       "381106     381107.0  21.0                      1.0         30.0   \n",
       "381107     381108.0  68.0                      1.0         14.0   \n",
       "381108     381109.0  46.0                      1.0         29.0   \n",
       "\n",
       "        previously insured  gender_female  gender_male  vehicle age_1-2year  \\\n",
       "0                      0.0              0            1                    0   \n",
       "1                      0.0              0            1                    1   \n",
       "2                      0.0              0            1                    0   \n",
       "3                      1.0              0            1                    0   \n",
       "4                      1.0              1            0                    0   \n",
       "...                    ...            ...          ...                  ...   \n",
       "381104                 1.0              0            1                    1   \n",
       "381105                 1.0              0            1                    0   \n",
       "381106                 1.0              0            1                    0   \n",
       "381107                 0.0              1            0                    0   \n",
       "381108                 0.0              0            1                    1   \n",
       "\n",
       "        vehicle age_<1year  vehicle age_>2years  vehicle damage_no  \\\n",
       "0                        0                    1                  0   \n",
       "1                        0                    0                  1   \n",
       "2                        0                    1                  0   \n",
       "3                        1                    0                  1   \n",
       "4                        1                    0                  1   \n",
       "...                    ...                  ...                ...   \n",
       "381104                   0                    0                  1   \n",
       "381105                   1                    0                  1   \n",
       "381106                   1                    0                  1   \n",
       "381107                   0                    1                  0   \n",
       "381108                   0                    0                  1   \n",
       "\n",
       "        vehicle damage_yes  \n",
       "0                        1  \n",
       "1                        0  \n",
       "2                        1  \n",
       "3                        0  \n",
       "4                        0  \n",
       "...                    ...  \n",
       "381104                   0  \n",
       "381105                   0  \n",
       "381106                   0  \n",
       "381107                   1  \n",
       "381108                   0  \n",
       "\n",
       "[380723 rows x 12 columns]"
      ]
     },
     "execution_count": 62,
     "metadata": {},
     "output_type": "execute_result"
    }
   ],
   "source": [
    "pd.get_dummies(customer_details,columns=['gender','vehicle age','vehicle damage'])"
   ]
  },
  {
   "cell_type": "markdown",
   "id": "e7ad619b",
   "metadata": {},
   "source": [
    "#####  Drop Duplicates (duplicated rows)"
   ]
  },
  {
   "cell_type": "code",
   "execution_count": 63,
   "id": "8046371b",
   "metadata": {},
   "outputs": [],
   "source": [
    "customer_details.drop_duplicates(inplace=True)"
   ]
  },
  {
   "cell_type": "code",
   "execution_count": 64,
   "id": "611f6a94",
   "metadata": {},
   "outputs": [],
   "source": [
    "customer_policy_details.drop_duplicates(inplace=True)"
   ]
  },
  {
   "cell_type": "markdown",
   "id": "38adaa15",
   "metadata": {},
   "source": [
    "### Create a Master table for future use. Join the customer table and customer_policy table to get a master table using customer_id in both tables."
   ]
  },
  {
   "cell_type": "code",
   "execution_count": 65,
   "id": "b7f373ff",
   "metadata": {},
   "outputs": [
    {
     "data": {
      "text/html": [
       "<div>\n",
       "<style scoped>\n",
       "    .dataframe tbody tr th:only-of-type {\n",
       "        vertical-align: middle;\n",
       "    }\n",
       "\n",
       "    .dataframe tbody tr th {\n",
       "        vertical-align: top;\n",
       "    }\n",
       "\n",
       "    .dataframe thead th {\n",
       "        text-align: right;\n",
       "    }\n",
       "</style>\n",
       "<table border=\"1\" class=\"dataframe\">\n",
       "  <thead>\n",
       "    <tr style=\"text-align: right;\">\n",
       "      <th></th>\n",
       "      <th>customer_id</th>\n",
       "      <th>gender</th>\n",
       "      <th>age</th>\n",
       "      <th>driving licence present</th>\n",
       "      <th>region code</th>\n",
       "      <th>previously insured</th>\n",
       "      <th>vehicle age</th>\n",
       "      <th>vehicle damage</th>\n",
       "      <th>annual premium (in Rs)</th>\n",
       "      <th>sales channel code</th>\n",
       "      <th>vintage</th>\n",
       "      <th>response</th>\n",
       "    </tr>\n",
       "  </thead>\n",
       "  <tbody>\n",
       "    <tr>\n",
       "      <th>0</th>\n",
       "      <td>1.0</td>\n",
       "      <td>male</td>\n",
       "      <td>44.0</td>\n",
       "      <td>1.0</td>\n",
       "      <td>28.0</td>\n",
       "      <td>0.0</td>\n",
       "      <td>&gt;2years</td>\n",
       "      <td>yes</td>\n",
       "      <td>40454.0</td>\n",
       "      <td>26.0</td>\n",
       "      <td>217.0</td>\n",
       "      <td>1.0</td>\n",
       "    </tr>\n",
       "    <tr>\n",
       "      <th>1</th>\n",
       "      <td>2.0</td>\n",
       "      <td>male</td>\n",
       "      <td>76.0</td>\n",
       "      <td>1.0</td>\n",
       "      <td>3.0</td>\n",
       "      <td>0.0</td>\n",
       "      <td>1-2year</td>\n",
       "      <td>no</td>\n",
       "      <td>33536.0</td>\n",
       "      <td>26.0</td>\n",
       "      <td>183.0</td>\n",
       "      <td>0.0</td>\n",
       "    </tr>\n",
       "    <tr>\n",
       "      <th>2</th>\n",
       "      <td>3.0</td>\n",
       "      <td>male</td>\n",
       "      <td>47.0</td>\n",
       "      <td>1.0</td>\n",
       "      <td>28.0</td>\n",
       "      <td>0.0</td>\n",
       "      <td>&gt;2years</td>\n",
       "      <td>yes</td>\n",
       "      <td>38294.0</td>\n",
       "      <td>26.0</td>\n",
       "      <td>27.0</td>\n",
       "      <td>1.0</td>\n",
       "    </tr>\n",
       "    <tr>\n",
       "      <th>3</th>\n",
       "      <td>4.0</td>\n",
       "      <td>male</td>\n",
       "      <td>21.0</td>\n",
       "      <td>1.0</td>\n",
       "      <td>11.0</td>\n",
       "      <td>1.0</td>\n",
       "      <td>&lt;1year</td>\n",
       "      <td>no</td>\n",
       "      <td>28619.0</td>\n",
       "      <td>152.0</td>\n",
       "      <td>203.0</td>\n",
       "      <td>0.0</td>\n",
       "    </tr>\n",
       "    <tr>\n",
       "      <th>4</th>\n",
       "      <td>5.0</td>\n",
       "      <td>female</td>\n",
       "      <td>29.0</td>\n",
       "      <td>1.0</td>\n",
       "      <td>41.0</td>\n",
       "      <td>1.0</td>\n",
       "      <td>&lt;1year</td>\n",
       "      <td>no</td>\n",
       "      <td>27496.0</td>\n",
       "      <td>152.0</td>\n",
       "      <td>39.0</td>\n",
       "      <td>0.0</td>\n",
       "    </tr>\n",
       "    <tr>\n",
       "      <th>...</th>\n",
       "      <td>...</td>\n",
       "      <td>...</td>\n",
       "      <td>...</td>\n",
       "      <td>...</td>\n",
       "      <td>...</td>\n",
       "      <td>...</td>\n",
       "      <td>...</td>\n",
       "      <td>...</td>\n",
       "      <td>...</td>\n",
       "      <td>...</td>\n",
       "      <td>...</td>\n",
       "      <td>...</td>\n",
       "    </tr>\n",
       "    <tr>\n",
       "      <th>380331</th>\n",
       "      <td>381105.0</td>\n",
       "      <td>male</td>\n",
       "      <td>74.0</td>\n",
       "      <td>1.0</td>\n",
       "      <td>26.0</td>\n",
       "      <td>1.0</td>\n",
       "      <td>1-2year</td>\n",
       "      <td>no</td>\n",
       "      <td>30170.0</td>\n",
       "      <td>26.0</td>\n",
       "      <td>88.0</td>\n",
       "      <td>0.0</td>\n",
       "    </tr>\n",
       "    <tr>\n",
       "      <th>380332</th>\n",
       "      <td>381106.0</td>\n",
       "      <td>male</td>\n",
       "      <td>30.0</td>\n",
       "      <td>1.0</td>\n",
       "      <td>37.0</td>\n",
       "      <td>1.0</td>\n",
       "      <td>&lt;1year</td>\n",
       "      <td>no</td>\n",
       "      <td>40016.0</td>\n",
       "      <td>152.0</td>\n",
       "      <td>131.0</td>\n",
       "      <td>0.0</td>\n",
       "    </tr>\n",
       "    <tr>\n",
       "      <th>380333</th>\n",
       "      <td>381107.0</td>\n",
       "      <td>male</td>\n",
       "      <td>21.0</td>\n",
       "      <td>1.0</td>\n",
       "      <td>30.0</td>\n",
       "      <td>1.0</td>\n",
       "      <td>&lt;1year</td>\n",
       "      <td>no</td>\n",
       "      <td>35118.0</td>\n",
       "      <td>160.0</td>\n",
       "      <td>161.0</td>\n",
       "      <td>0.0</td>\n",
       "    </tr>\n",
       "    <tr>\n",
       "      <th>380334</th>\n",
       "      <td>381108.0</td>\n",
       "      <td>female</td>\n",
       "      <td>68.0</td>\n",
       "      <td>1.0</td>\n",
       "      <td>14.0</td>\n",
       "      <td>0.0</td>\n",
       "      <td>&gt;2years</td>\n",
       "      <td>yes</td>\n",
       "      <td>44617.0</td>\n",
       "      <td>124.0</td>\n",
       "      <td>74.0</td>\n",
       "      <td>0.0</td>\n",
       "    </tr>\n",
       "    <tr>\n",
       "      <th>380335</th>\n",
       "      <td>381109.0</td>\n",
       "      <td>male</td>\n",
       "      <td>46.0</td>\n",
       "      <td>1.0</td>\n",
       "      <td>29.0</td>\n",
       "      <td>0.0</td>\n",
       "      <td>1-2year</td>\n",
       "      <td>no</td>\n",
       "      <td>41777.0</td>\n",
       "      <td>26.0</td>\n",
       "      <td>237.0</td>\n",
       "      <td>0.0</td>\n",
       "    </tr>\n",
       "  </tbody>\n",
       "</table>\n",
       "<p>380336 rows × 12 columns</p>\n",
       "</div>"
      ],
      "text/plain": [
       "        customer_id  gender   age  driving licence present  region code  \\\n",
       "0               1.0    male  44.0                      1.0         28.0   \n",
       "1               2.0    male  76.0                      1.0          3.0   \n",
       "2               3.0    male  47.0                      1.0         28.0   \n",
       "3               4.0    male  21.0                      1.0         11.0   \n",
       "4               5.0  female  29.0                      1.0         41.0   \n",
       "...             ...     ...   ...                      ...          ...   \n",
       "380331     381105.0    male  74.0                      1.0         26.0   \n",
       "380332     381106.0    male  30.0                      1.0         37.0   \n",
       "380333     381107.0    male  21.0                      1.0         30.0   \n",
       "380334     381108.0  female  68.0                      1.0         14.0   \n",
       "380335     381109.0    male  46.0                      1.0         29.0   \n",
       "\n",
       "        previously insured vehicle age vehicle damage  annual premium (in Rs)  \\\n",
       "0                      0.0     >2years            yes                 40454.0   \n",
       "1                      0.0     1-2year             no                 33536.0   \n",
       "2                      0.0     >2years            yes                 38294.0   \n",
       "3                      1.0      <1year             no                 28619.0   \n",
       "4                      1.0      <1year             no                 27496.0   \n",
       "...                    ...         ...            ...                     ...   \n",
       "380331                 1.0     1-2year             no                 30170.0   \n",
       "380332                 1.0      <1year             no                 40016.0   \n",
       "380333                 1.0      <1year             no                 35118.0   \n",
       "380334                 0.0     >2years            yes                 44617.0   \n",
       "380335                 0.0     1-2year             no                 41777.0   \n",
       "\n",
       "        sales channel code  vintage  response  \n",
       "0                     26.0    217.0       1.0  \n",
       "1                     26.0    183.0       0.0  \n",
       "2                     26.0     27.0       1.0  \n",
       "3                    152.0    203.0       0.0  \n",
       "4                    152.0     39.0       0.0  \n",
       "...                    ...      ...       ...  \n",
       "380331                26.0     88.0       0.0  \n",
       "380332               152.0    131.0       0.0  \n",
       "380333               160.0    161.0       0.0  \n",
       "380334               124.0     74.0       0.0  \n",
       "380335                26.0    237.0       0.0  \n",
       "\n",
       "[380336 rows x 12 columns]"
      ]
     },
     "execution_count": 65,
     "metadata": {},
     "output_type": "execute_result"
    }
   ],
   "source": [
    "master_table=pd.merge(customer_details,customer_policy_details,on='customer_id')\n",
    "master_table"
   ]
  },
  {
   "cell_type": "markdown",
   "id": "bea057e4",
   "metadata": {},
   "source": [
    "### Company needs some important information from the master table to make decisions for future growth."
   ]
  },
  {
   "cell_type": "markdown",
   "id": "cef6f44c",
   "metadata": {},
   "source": [
    "#####  i. Gender wise average annual premium"
   ]
  },
  {
   "cell_type": "code",
   "execution_count": 66,
   "id": "ca30cc3e",
   "metadata": {},
   "outputs": [
    {
     "data": {
      "text/plain": [
       "gender\n",
       "female    29273.474247\n",
       "male      29323.099677\n",
       "Name: annual premium (in Rs), dtype: float64"
      ]
     },
     "execution_count": 66,
     "metadata": {},
     "output_type": "execute_result"
    }
   ],
   "source": [
    "df1=master_table.groupby('gender')\n",
    "df1['annual premium (in Rs)'].mean()"
   ]
  },
  {
   "cell_type": "markdown",
   "id": "ede8f2f6",
   "metadata": {},
   "source": [
    "###### ii. Age wise average annual premium "
   ]
  },
  {
   "cell_type": "code",
   "execution_count": 67,
   "id": "5b05424e",
   "metadata": {},
   "outputs": [
    {
     "data": {
      "text/plain": [
       "age\n",
       "20.0    26342.073517\n",
       "21.0    29751.791916\n",
       "22.0    29946.848634\n",
       "23.0    29838.344763\n",
       "24.0    30125.557096\n",
       "            ...     \n",
       "81.0    29287.910702\n",
       "82.0    36480.586199\n",
       "83.0    28995.818172\n",
       "84.0    35440.818182\n",
       "85.0    26637.454525\n",
       "Name: annual premium (in Rs), Length: 66, dtype: float64"
      ]
     },
     "execution_count": 67,
     "metadata": {},
     "output_type": "execute_result"
    }
   ],
   "source": [
    "df2=master_table.groupby('age')\n",
    "df2['annual premium (in Rs)'].mean()"
   ]
  },
  {
   "cell_type": "markdown",
   "id": "8fd1ffc8",
   "metadata": {},
   "source": [
    "###### iii. Is your data balanced between the genders?"
   ]
  },
  {
   "cell_type": "code",
   "execution_count": 68,
   "id": "f36485d8",
   "metadata": {},
   "outputs": [
    {
     "data": {
      "text/plain": [
       "gender\n",
       "female    174485\n",
       "male      205851\n",
       "Name: customer_id, dtype: int64"
      ]
     },
     "execution_count": 68,
     "metadata": {},
     "output_type": "execute_result"
    }
   ],
   "source": [
    "df3=master_table.groupby('gender')['customer_id'].count()\n",
    "df3"
   ]
  },
  {
   "cell_type": "code",
   "execution_count": 69,
   "id": "8a234801",
   "metadata": {},
   "outputs": [],
   "source": [
    "# No. of male customer higer than female customer but ratio is approximately 1 so we can data is balanced as per gender."
   ]
  },
  {
   "cell_type": "markdown",
   "id": "26e7876c",
   "metadata": {},
   "source": [
    "######  iv. Vehicle age wise average annual premium.  "
   ]
  },
  {
   "cell_type": "code",
   "execution_count": 70,
   "id": "1b40b58e",
   "metadata": {},
   "outputs": [
    {
     "data": {
      "text/plain": [
       "vehicle age\n",
       "1-2year    29102.009839\n",
       "<1year     29188.150594\n",
       ">2years    32943.540830\n",
       "Name: annual premium (in Rs), dtype: float64"
      ]
     },
     "execution_count": 70,
     "metadata": {},
     "output_type": "execute_result"
    }
   ],
   "source": [
    "df4=master_table.groupby('vehicle age')['annual premium (in Rs)'].mean()\n",
    "df4"
   ]
  },
  {
   "cell_type": "markdown",
   "id": "7f931bb4",
   "metadata": {},
   "source": [
    "### any relation between Person Age and annual premium"
   ]
  },
  {
   "cell_type": "code",
   "execution_count": 71,
   "id": "89daf619",
   "metadata": {},
   "outputs": [
    {
     "name": "stdout",
     "output_type": "stream",
     "text": [
      "The correlation between age and annual premium is  0.05065409799611512\n"
     ]
    }
   ],
   "source": [
    "correlation=master_table['age'].corr(master_table['annual premium (in Rs)'])\n",
    "\n",
    "print('The correlation between age and annual premium is ',correlation)"
   ]
  },
  {
   "cell_type": "code",
   "execution_count": 72,
   "id": "654c7cdc",
   "metadata": {},
   "outputs": [],
   "source": [
    "# so the correlation between age and annual premium is between 0.5 and -0.5 , so there is no relation between these column"
   ]
  },
  {
   "cell_type": "code",
   "execution_count": 75,
   "id": "b4a1f28c",
   "metadata": {},
   "outputs": [
    {
     "name": "stdout",
     "output_type": "stream",
     "text": [
      "<class 'pandas.core.frame.DataFrame'>\n",
      "Int64Index: 380336 entries, 0 to 380335\n",
      "Data columns (total 12 columns):\n",
      " #   Column                   Non-Null Count   Dtype  \n",
      "---  ------                   --------------   -----  \n",
      " 0   customer_id              380336 non-null  float64\n",
      " 1   gender                   380336 non-null  object \n",
      " 2   age                      380336 non-null  float64\n",
      " 3   driving licence present  380336 non-null  float64\n",
      " 4   region code              380336 non-null  float64\n",
      " 5   previously insured       380336 non-null  float64\n",
      " 6   vehicle age              380336 non-null  object \n",
      " 7   vehicle damage           380336 non-null  object \n",
      " 8   annual premium (in Rs)   380336 non-null  float64\n",
      " 9   sales channel code       380336 non-null  float64\n",
      " 10  vintage                  380336 non-null  float64\n",
      " 11  response                 380336 non-null  float64\n",
      "dtypes: float64(9), object(3)\n",
      "memory usage: 37.7+ MB\n"
     ]
    }
   ],
   "source": [
    "master_table.info()"
   ]
  },
  {
   "cell_type": "code",
   "execution_count": 76,
   "id": "ad2d21b2",
   "metadata": {},
   "outputs": [
    {
     "name": "stdout",
     "output_type": "stream",
     "text": [
      "<class 'pandas.core.frame.DataFrame'>\n",
      "Int64Index: 380723 entries, 0 to 381108\n",
      "Data columns (total 8 columns):\n",
      " #   Column                   Non-Null Count   Dtype  \n",
      "---  ------                   --------------   -----  \n",
      " 0   customer_id              380723 non-null  float64\n",
      " 1   gender                   380723 non-null  object \n",
      " 2   age                      380723 non-null  float64\n",
      " 3   driving licence present  380723 non-null  float64\n",
      " 4   region code              380723 non-null  float64\n",
      " 5   previously insured       380723 non-null  float64\n",
      " 6   vehicle age              380723 non-null  object \n",
      " 7   vehicle damage           380723 non-null  object \n",
      "dtypes: float64(5), object(3)\n",
      "memory usage: 26.1+ MB\n"
     ]
    }
   ],
   "source": [
    "customer_details.info()"
   ]
  },
  {
   "cell_type": "code",
   "execution_count": 77,
   "id": "8efe251b",
   "metadata": {},
   "outputs": [
    {
     "name": "stdout",
     "output_type": "stream",
     "text": [
      "<class 'pandas.core.frame.DataFrame'>\n",
      "Int64Index: 380722 entries, 0 to 381108\n",
      "Data columns (total 5 columns):\n",
      " #   Column                  Non-Null Count   Dtype  \n",
      "---  ------                  --------------   -----  \n",
      " 0   customer_id             380722 non-null  float64\n",
      " 1   annual premium (in Rs)  380722 non-null  float64\n",
      " 2   sales channel code      380722 non-null  float64\n",
      " 3   vintage                 380722 non-null  float64\n",
      " 4   response                380722 non-null  float64\n",
      "dtypes: float64(5)\n",
      "memory usage: 17.4 MB\n"
     ]
    }
   ],
   "source": [
    "customer_policy_details.info()"
   ]
  },
  {
   "cell_type": "code",
   "execution_count": null,
   "id": "7843cf54",
   "metadata": {},
   "outputs": [],
   "source": []
  }
 ],
 "metadata": {
  "kernelspec": {
   "display_name": "Python 3 (ipykernel)",
   "language": "python",
   "name": "python3"
  },
  "language_info": {
   "codemirror_mode": {
    "name": "ipython",
    "version": 3
   },
   "file_extension": ".py",
   "mimetype": "text/x-python",
   "name": "python",
   "nbconvert_exporter": "python",
   "pygments_lexer": "ipython3",
   "version": "3.10.9"
  }
 },
 "nbformat": 4,
 "nbformat_minor": 5
}
